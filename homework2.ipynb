{
 "cells": [
  {
   "cell_type": "markdown",
   "metadata": {},
   "source": [
    "1. 编写 Python 程序，求两个正整数的最大公约数。"
   ]
  },
  {
   "cell_type": "code",
   "execution_count": 10,
   "metadata": {},
   "outputs": [
    {
     "name": "stdout",
     "output_type": "stream",
     "text": [
      "最大公约数是12\n"
     ]
    }
   ],
   "source": [
    "a = int(input())\n",
    "b = int(input())\n",
    "i = 1\n",
    "result = 1\n",
    "while (i <= a) and (i <= b):\n",
    "    if(a%i == 0) and(b%i == 0):\n",
    "        result = i\n",
    "    i += 1\n",
    "print(f\"最大公约数是{result}\")"
   ]
  },
  {
   "cell_type": "code",
   "execution_count": 12,
   "metadata": {},
   "outputs": [
    {
     "name": "stdout",
     "output_type": "stream",
     "text": [
      "最大公约数是12\n"
     ]
    }
   ],
   "source": [
    "a = int(input())\n",
    "b = int(input())\n",
    "i = 1\n",
    "result = 1\n",
    "for i in range(1,a):\n",
    "    if (a%i == 0) and(b%i == 0):\n",
    "        result = i\n",
    "print(f\"最大公约数是{result}\")"
   ]
  },
  {
   "cell_type": "markdown",
   "metadata": {},
   "source": [
    "2. 用if语句实现百分制转等级制（考试成绩，60分以下不合格，60—74分合格，75—89分为良好，90分以上为优秀）。"
   ]
  },
  {
   "cell_type": "code",
   "execution_count": 17,
   "metadata": {},
   "outputs": [
    {
     "name": "stdout",
     "output_type": "stream",
     "text": [
      "优秀\n"
     ]
    }
   ],
   "source": [
    "score = int(input(\"请输入分数：\"))\n",
    "if score < 60:\n",
    "    print(\"不合格\")\n",
    "elif 60 <= score <= 74:\n",
    "    print(\"合格\")\n",
    "elif 75 <= score <= 89: \n",
    "    print(\"良好\")  \n",
    "else:\n",
    "    print(\"优秀\")"
   ]
  },
  {
   "cell_type": "markdown",
   "metadata": {},
   "source": [
    "3. 编写Python程序，完成十到二进制小数的转换"
   ]
  },
  {
   "cell_type": "code",
   "execution_count": 20,
   "metadata": {},
   "outputs": [
    {
     "name": "stdout",
     "output_type": "stream",
     "text": [
      "二进制表示为: 0.101\n"
     ]
    }
   ],
   "source": [
    "a = float(input(\"请输入一个十进制小数：\"))\n",
    "max_iterations = 50\n",
    "current_iteration = 0\n",
    "BinaryNumber = \"0.\"\n",
    "while a != 0 and current_iteration < max_iterations:\n",
    "    a = a * 2\n",
    "    if a >= 1:\n",
    "        BinaryNumber += \"1\"\n",
    "        a -= 1\n",
    "    else:\n",
    "        BinaryNumber += \"0\"\n",
    "    current_iteration += 1\n",
    "\n",
    "print(\"二进制表示为:\", BinaryNumber)"
   ]
  },
  {
   "cell_type": "markdown",
   "metadata": {},
   "source": [
    "4. 编写Python程序，产生10-20的随机浮点数"
   ]
  },
  {
   "cell_type": "code",
   "execution_count": 65,
   "metadata": {},
   "outputs": [
    {
     "name": "stdout",
     "output_type": "stream",
     "text": [
      "17.499281113019244\n"
     ]
    }
   ],
   "source": [
    "import random\n",
    "random_float = random.uniform(10, 20)\n",
    "print(random_float)\n"
   ]
  },
  {
   "cell_type": "markdown",
   "metadata": {},
   "source": [
    "5. 编写一个Python函数，判断一个整数是否是回文数。回文数是指正序（从左向右）和倒序（从右向左）读都是一样的数。"
   ]
  },
  {
   "cell_type": "code",
   "execution_count": 66,
   "metadata": {},
   "outputs": [
    {
     "name": "stdout",
     "output_type": "stream",
     "text": [
      "True\n",
      "False\n",
      "False\n"
     ]
    }
   ],
   "source": [
    "def is_palindrome(num):\n",
    "    # 将整数转换为字符串\n",
    "    s = str(num)\n",
    "    # s[start:stop:step]允许你从字符串中提取部分字符\n",
    "    return s == s[::-1]\n",
    "#测试\n",
    "print(is_palindrome(121)) \n",
    "print(is_palindrome(-121)) \n",
    "print(is_palindrome(123))  \n"
   ]
  },
  {
   "cell_type": "markdown",
   "metadata": {},
   "source": [
    "6.编写一个Python函数，返回一个包含斐波那契数列的前N个数的列表。斐波那契数列是一个数列，其中每个数是前两个数的和，数列以0和1开始。"
   ]
  },
  {
   "cell_type": "code",
   "execution_count": 67,
   "metadata": {},
   "outputs": [
    {
     "data": {
      "text/plain": [
       "[0, 1, 1, 2, 3, 5, 8, 13]"
      ]
     },
     "execution_count": 67,
     "metadata": {},
     "output_type": "execute_result"
    }
   ],
   "source": [
    "def fibonacci(n):\n",
    "    if n <= 0:\n",
    "        return[]\n",
    "    elif n == 1:\n",
    "        return [0]\n",
    "    elif n == 2:\n",
    "        return [0,1]\n",
    "    fibList = [0,1]\n",
    "    for i in range(2,n):\n",
    "        nextfib = fibList[-1]+fibList[-2]\n",
    "        fibList.append(nextfib)\n",
    "    return fibList\n",
    "fibonacci(8)"
   ]
  },
  {
   "cell_type": "markdown",
   "metadata": {},
   "source": [
    "7.编写一个Python函数，接受一个整数数组作为输入，返回数组中第二大的数。如果数组中只有一个元素或数组为空，则返回-1。"
   ]
  },
  {
   "cell_type": "code",
   "execution_count": 68,
   "metadata": {},
   "outputs": [
    {
     "name": "stdout",
     "output_type": "stream",
     "text": [
      "40\n",
      "-1\n",
      "-1\n",
      "-1\n"
     ]
    }
   ],
   "source": [
    "def second_largest(nums):\n",
    "    if len(nums) < 2:\n",
    "        return -1\n",
    "    #去除重复元素\n",
    "    unique_nums = list(set(nums))\n",
    "    #检查去重后的数组长度\n",
    "    if len(unique_nums) < 2:\n",
    "        return -1\n",
    "    #对数组进行排序\n",
    "    unique_nums.sort()\n",
    "    #返回第二大的数\n",
    "    return unique_nums[-2]\n",
    "#测试\n",
    "print(second_largest([10, 20, 30, 40, 50])) \n",
    "print(second_largest([5, 5, 5, 5]))         \n",
    "print(second_largest([7]))             \n",
    "print(second_largest([]))        \n"
   ]
  },
  {
   "cell_type": "markdown",
   "metadata": {},
   "source": [
    "8. 编写一个函数，使其能够用正则表达式的方式简单验证身份证号是否合法。\n",
    "validate_id_card函数使用正则表达式模式来匹配身份证号。模式通过以下方式验证身份证号的格式：\n",
    "第一位必须是1-9的数字，不以0开头。\n",
    "接下来6位是地区码。\n",
    "紧接着8位是出生年份和月份。\n",
    "接下来2位是出生日。\n",
    "然后是3位顺序码（通常是随机数字）。\n",
    "最后一位可以是数字或大写字母X。"
   ]
  },
  {
   "cell_type": "code",
   "execution_count": 69,
   "metadata": {},
   "outputs": [
    {
     "name": "stdout",
     "output_type": "stream",
     "text": [
      "True\n",
      "False\n",
      "True\n",
      "False\n"
     ]
    }
   ],
   "source": [
    "import re\n",
    "def validate_id_card(id_card):\n",
    "    #定义身份证号的正则表达式\n",
    "    pattern = r'^[1-9]\\d{5}(19|20)\\d{2}(0[1-9]|1[0-2])(0[1-9]|[12][0-9]|3[01])\\d{3}([0-9X])$'\n",
    "    #使用正则表达式匹配身份证号\n",
    "    if re.match(pattern, id_card):\n",
    "        return True\n",
    "    else:\n",
    "        return False\n",
    "#测试\n",
    "print(validate_id_card(\"123456199012121234\"))  \n",
    "print(validate_id_card(\"023456199012121234\")) \n",
    "print(validate_id_card(\"12345619901212123X\"))  \n",
    "print(validate_id_card(\"123456199022301234\"))  \n"
   ]
  }
 ],
 "metadata": {
  "kernelspec": {
   "display_name": "Python (myvenv)",
   "language": "python",
   "name": "myvenv"
  },
  "language_info": {
   "codemirror_mode": {
    "name": "ipython",
    "version": 3
   },
   "file_extension": ".py",
   "mimetype": "text/x-python",
   "name": "python",
   "nbconvert_exporter": "python",
   "pygments_lexer": "ipython3",
   "version": "3.12.6"
  }
 },
 "nbformat": 4,
 "nbformat_minor": 2
}
