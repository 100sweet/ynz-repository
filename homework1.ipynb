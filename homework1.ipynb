{
 "cells": [
  {
   "cell_type": "markdown",
   "metadata": {},
   "source": [
    "1.编写Python程序，打印\"数据科学与工程导论\"，并使用 print(chr(0x2605)) 语句将这句话包围起来。"
   ]
  },
  {
   "cell_type": "code",
   "execution_count": 1,
   "metadata": {},
   "outputs": [
    {
     "name": "stdout",
     "output_type": "stream",
     "text": [
      "★ 数据科学与工程导论 ★\n"
     ]
    }
   ],
   "source": [
    "print(chr(0x2605) + \" 数据科学与工程导论 \" + chr(0x2605))"
   ]
  },
  {
   "cell_type": "markdown",
   "metadata": {},
   "source": [
    "2.写一个 Python 程序，输入 x, y, z 这三个数，将这三个数从小到大使用 print 函数打印出来。"
   ]
  },
  {
   "cell_type": "code",
   "execution_count": 2,
   "metadata": {},
   "outputs": [
    {
     "name": "stdout",
     "output_type": "stream",
     "text": [
      "['1', '2', '3']\n"
     ]
    }
   ],
   "source": [
    "x = input(\"请输入第一个数: \")\n",
    "y = input(\"请输入第二个数: \")\n",
    "z = input(\"请输入第三个数: \")\n",
    "numbers = [x,y,z]\n",
    "numbers.sort()\n",
    "print(numbers)"
   ]
  },
  {
   "cell_type": "markdown",
   "metadata": {},
   "source": [
    "3.写一个 Python 程序，有 w, x, y, z 四个数，将这四个数从大到小使用 print 函数打印出来。"
   ]
  },
  {
   "cell_type": "code",
   "execution_count": 3,
   "metadata": {},
   "outputs": [
    {
     "name": "stdout",
     "output_type": "stream",
     "text": [
      "['5', '4', '3', '1']\n"
     ]
    }
   ],
   "source": [
    "w = input(\"请输入第1个数: \")\n",
    "x = input(\"请输入第2个数: \")\n",
    "y = input(\"请输入第3个数: \")\n",
    "z = input(\"请输入第4个数: \")\n",
    "numbers = [w,x,y,z]\n",
    "numbers.sort(reverse = True)\n",
    "print(numbers)"
   ]
  },
  {
   "cell_type": "markdown",
   "metadata": {},
   "source": [
    "4.写一个 Python 程序，输出 1-100 中的所有奇数。"
   ]
  },
  {
   "cell_type": "code",
   "execution_count": 4,
   "metadata": {},
   "outputs": [
    {
     "name": "stdout",
     "output_type": "stream",
     "text": [
      "1 3 5 7 9 11 13 15 17 19 21 23 25 27 29 31 33 35 37 39 41 43 45 47 49 51 53 55 57 59 61 63 65 67 69 71 73 75 77 79 81 83 85 87 89 91 93 95 97 99 "
     ]
    }
   ],
   "source": [
    "for a in range(1,101):\n",
    "    if a % 2 == 1:\n",
    "        print(a,end = \" \")"
   ]
  },
  {
   "cell_type": "markdown",
   "metadata": {},
   "source": [
    "5.写一个 Python 程序，用 for 循环，求解 1 到 100 的和。"
   ]
  },
  {
   "cell_type": "code",
   "execution_count": 5,
   "metadata": {},
   "outputs": [
    {
     "name": "stdout",
     "output_type": "stream",
     "text": [
      "5050\n"
     ]
    }
   ],
   "source": [
    "sum = 0 \n",
    "for i in range(1 , 101):\n",
    "    sum += i\n",
    "print (sum)"
   ]
  },
  {
   "cell_type": "markdown",
   "metadata": {},
   "source": [
    "6.写一个 Python 程序，分别用 for 和 while 循环实现对一个给定序列的倒排序输出。例如，给定 L=[1,2,3,4,5]，输出为 [5,4,3,2,1]。"
   ]
  },
  {
   "cell_type": "code",
   "execution_count": 6,
   "metadata": {},
   "outputs": [
    {
     "name": "stdout",
     "output_type": "stream",
     "text": [
      "[5, 4, 3, 2, 1]\n"
     ]
    }
   ],
   "source": [
    "L = [1,2,3,4,5]\n",
    "reverseL = []\n",
    "for i in range(len(L)-1,-1,-1):   #range(start,stop,step)左闭右开\n",
    "    reverseL.append(L[i])\n",
    "print(reverseL)"
   ]
  },
  {
   "cell_type": "code",
   "execution_count": 7,
   "metadata": {},
   "outputs": [
    {
     "name": "stdout",
     "output_type": "stream",
     "text": [
      "[5, 4, 3, 2, 1]\n"
     ]
    }
   ],
   "source": [
    "L = [1,2,3,4,5]\n",
    "reverseL = []\n",
    "i = len(L)-1\n",
    "while i >= 0 :\n",
    "    reverseL.append(L[i])\n",
    "    i -= 1\n",
    "print(reverseL)"
   ]
  },
  {
   "cell_type": "markdown",
   "metadata": {},
   "source": [
    "7.写一个 Python 程序，判断一个输入的字符串 S 是否包含由两个或两个以上连续出现的相同字符组成的字符串。例如，abccccda 中就包含 cccc 这个由 4 个连续字符组成的字符串。"
   ]
  },
  {
   "cell_type": "code",
   "execution_count": 8,
   "metadata": {},
   "outputs": [
    {
     "name": "stdout",
     "output_type": "stream",
     "text": [
      "agghh中包含两个或两个以上连续出现的相同字符组成的字符串\n"
     ]
    }
   ],
   "source": [
    "def has_consecutive_chars(S):\n",
    "    count = 1\n",
    "    for i in range(1,len(S)):\n",
    "        if S[i] == S[i-1]:\n",
    "            count += 1\n",
    "            return True\n",
    "        else:\n",
    "            count = 1\n",
    "    return False\n",
    "S = input(\"请输入字符串:\")\n",
    "if has_consecutive_chars(S):\n",
    "    print(f\"{S}中包含两个或两个以上连续出现的相同字符组成的字符串\")\n",
    "else:\n",
    "    print(f\"{S}中不包含两个或两个以上连续出现的相同字符组成的字符串\")"
   ]
  },
  {
   "cell_type": "markdown",
   "metadata": {},
   "source": [
    "8.写一个 Python 程序，输入一个字符串 S，去掉其中所有的空格后输出。例如，“DataScience and Engineering”，去掉空格后为“DataScienceandEngineering”。"
   ]
  },
  {
   "cell_type": "code",
   "execution_count": 9,
   "metadata": {},
   "outputs": [
    {
     "name": "stdout",
     "output_type": "stream",
     "text": [
      "aghk\n"
     ]
    }
   ],
   "source": [
    "#方法1: 建立空字符串，把不是空格的字符放进去\n",
    "S = input(\"请输入一个字符串：\")\n",
    "newS = \"\"\n",
    "for i in range(0,len(S)):\n",
    "    if S[i] != \" \":\n",
    "        newS += S[i]\n",
    "print(newS)"
   ]
  },
  {
   "cell_type": "code",
   "execution_count": 10,
   "metadata": {},
   "outputs": [
    {
     "name": "stdout",
     "output_type": "stream",
     "text": [
      "aef.h.\n"
     ]
    }
   ],
   "source": [
    "#方法2: 用replace(old,new,count)\n",
    "S = input(\"请输入一个字符串：\")\n",
    "result = S.replace(\" \",\"\")\n",
    "print(result)"
   ]
  },
  {
   "cell_type": "markdown",
   "metadata": {},
   "source": [
    "9.请设计一个求 3 次方根的算法（不允许直接调用求方根的函数），并给出对应的 Python 程序。 采用牛顿迭代法求解，迭代过程数学公式表示为： xn+1 = xn - f(xn)/f'(xn)"
   ]
  },
  {
   "cell_type": "code",
   "execution_count": 11,
   "metadata": {},
   "outputs": [
    {
     "name": "stdout",
     "output_type": "stream",
     "text": [
      "27.0 的三次方根是：3.0\n"
     ]
    }
   ],
   "source": [
    "#1e-7 是一种科学计数法表示的数字，是0.0000001。\n",
    "#a:传入的参数 tolerance:容差，就是误差 max_iteration:最大迭代次数\n",
    "def cube_root_newton(a, tolerance=1e-7, max_iterations=1000):\n",
    "    # 初始猜测值（可以取a的任意值，通常取a本身）\n",
    "    x_n = a\n",
    "    #：_ 是占位符，表示我们不关心循环变量的值，只是为了重复执行。\n",
    "    for _ in range(max_iterations):\n",
    "        # 计算新的近似值\n",
    "        x_n1 = x_n - (x_n**3 - a) / (3 * x_n**2)\n",
    "        \n",
    "        # 如果两个近似值非常接近，认为已经收敛\n",
    "        if abs(x_n1 - x_n) < tolerance:\n",
    "            return x_n1\n",
    "        # 更新迭代值\n",
    "        x_n = x_n1\n",
    "    \n",
    "    # 如果达到最大迭代次数，返回最终近似值\n",
    "    return x_n\n",
    "\n",
    "# 输入一个数字，计算其三次方根\n",
    "a = float(input(\"请输入一个数：\"))\n",
    "result = cube_root_newton(a)\n",
    "print(f\"{a} 的三次方根是：{result}\")"
   ]
  },
  {
   "cell_type": "markdown",
   "metadata": {},
   "source": [
    "10.写一个 Python 程序，给定一个常数 n（n>0），求 n 的阶乘，即 n!=1×2×...×(n-1)×n。例如，4!=24，5!=120。"
   ]
  },
  {
   "cell_type": "code",
   "execution_count": 12,
   "metadata": {},
   "outputs": [
    {
     "name": "stdout",
     "output_type": "stream",
     "text": [
      "120\n"
     ]
    }
   ],
   "source": [
    "n = int(input(\"请输入一个常数:\"))\n",
    "result = 1\n",
    "for i in range(1,n+1):\n",
    "    result *= i\n",
    "print(result)"
   ]
  }
 ],
 "metadata": {
  "kernelspec": {
   "display_name": "Python (myvenv)",
   "language": "python",
   "name": "myvenv"
  },
  "language_info": {
   "codemirror_mode": {
    "name": "ipython",
    "version": 3
   },
   "file_extension": ".py",
   "mimetype": "text/x-python",
   "name": "python",
   "nbconvert_exporter": "python",
   "pygments_lexer": "ipython3",
   "version": "3.12.6"
  }
 },
 "nbformat": 4,
 "nbformat_minor": 2
}
