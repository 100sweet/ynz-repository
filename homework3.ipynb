{
 "cells": [
  {
   "cell_type": "markdown",
   "metadata": {},
   "source": [
    "1.编写 Python程序,判断输入a是否为质数"
   ]
  },
  {
   "cell_type": "code",
   "execution_count": 4,
   "metadata": {},
   "outputs": [
    {
     "name": "stdout",
     "output_type": "stream",
     "text": [
      "9不是质数\n"
     ]
    }
   ],
   "source": [
    "a = int(input())\n",
    "b=[]\n",
    "for i in range(1,a+1):\n",
    "    if a % i == 0:\n",
    "        b.append(i)\n",
    "if len(b) == 2:\n",
    "    print(f\"{a}是质数\")\n",
    "else:\n",
    "    print(f\"{a}不是质数\")"
   ]
  },
  {
   "cell_type": "markdown",
   "metadata": {},
   "source": [
    "2.用Python实现插入排序该算法，不允许直接调用插入排序函数，需要手动实现其逻辑过程。"
   ]
  },
  {
   "cell_type": "code",
   "execution_count": 9,
   "metadata": {},
   "outputs": [
    {
     "name": "stdout",
     "output_type": "stream",
     "text": [
      "[5, 6, 11, 12, 13]\n"
     ]
    }
   ],
   "source": [
    "def insertion_sort(arr):\n",
    "    for i in range(1,len(arr)):\n",
    "        key = arr[i]\n",
    "        j = i-1\n",
    "        while j>=0 and arr[j]>key:\n",
    "            arr[j+1] = arr[j]\n",
    "            j -= 1\n",
    "        arr[j+1] = key\n",
    "    return arr\n",
    "arr = [12,11,13,5,6]\n",
    "print(insertion_sort(arr))\n"
   ]
  },
  {
   "cell_type": "markdown",
   "metadata": {},
   "source": [
    "3.用Python实现选择排序该算法，不允许直接调用插入排序函数，需要手动实现其逻辑过程。"
   ]
  },
  {
   "cell_type": "code",
   "execution_count": 14,
   "metadata": {},
   "outputs": [
    {
     "name": "stdout",
     "output_type": "stream",
     "text": [
      "[11, 12, 22, 25, 34, 64, 90]\n"
     ]
    }
   ],
   "source": [
    "def selection_sort(arr):\n",
    "    for i in range(0,len(arr)-1):\n",
    "        minindex = i\n",
    "        for j in range(i+1,len(arr)):\n",
    "            if arr[j] < arr[minindex]:\n",
    "                minindex = j\n",
    "        if minindex != i:\n",
    "            arr[i], arr[minindex] = arr[minindex], arr[i]\n",
    "    return arr\n",
    "\n",
    "arr1 = [64, 34, 25, 12, 22, 11, 90]\n",
    "print(selection_sort(arr1))\n"
   ]
  },
  {
   "cell_type": "markdown",
   "metadata": {},
   "source": [
    "4.用Python实现快速排序该算法，不允许直接调用插入排序函数，需要手动实现其逻辑过程。"
   ]
  },
  {
   "cell_type": "code",
   "execution_count": 1,
   "metadata": {},
   "outputs": [
    {
     "name": "stdout",
     "output_type": "stream",
     "text": [
      "[1, 1, 2, 3, 6, 8, 10]\n"
     ]
    }
   ],
   "source": [
    "def quick_sort(arr):\n",
    "    # 如果数组的长度小于等于1，则不需要排序\n",
    "    if len(arr) <= 1:\n",
    "        return arr\n",
    "    else:\n",
    "        # 选择一个基准值，这里选择数组的最后一个元素\n",
    "        pivot = arr[-1]\n",
    "        # 将数组划分为小于、等于和大于基准值的三个子数组\n",
    "        less_than_pivot = [x for x in arr[:-1] if x <= pivot]\n",
    "        greater_than_pivot = [x for x in arr[:-1] if x > pivot]\n",
    "        # 递归排序子数组，并将它们与基准值组合\n",
    "        return quick_sort(less_than_pivot) + [pivot] + quick_sort(greater_than_pivot)\n",
    "\n",
    "# 测试用例\n",
    "arr = [3, 6, 8, 10, 1, 2, 1]\n",
    "sorted_arr = quick_sort(arr)\n",
    "print(sorted_arr)"
   ]
  },
  {
   "cell_type": "markdown",
   "metadata": {},
   "source": [
    "5.使用 Python 随机生成三组长度递增的随机数列，长度分别为100、1000、10000，对生成的随机数组使用不同的排序算法，例如选择排序和归并排序，至少三种排序方法。对这些数列的数据排序，并分析不同排序算法在不同长度数列下的运行效果，例如运行时间等指标。（可以使用排序函数）"
   ]
  },
  {
   "cell_type": "code",
   "execution_count": 7,
   "metadata": {},
   "outputs": [
    {
     "name": "stdout",
     "output_type": "stream",
     "text": [
      "Length    Selection Sort (s)  Merge Sort (s)      Built-in Sort (s)   \n",
      "======================================================================\n",
      "100       0.00014             0.00010             0.00001             \n",
      "1000      0.01789             0.00137             0.00011             \n",
      "10000     1.78067             0.01834             0.00139             \n"
     ]
    }
   ],
   "source": [
    "import random\n",
    "import time\n",
    "\n",
    "# 生成三组长度递增的随机数列\n",
    "arr1 = [random.randint(1, 10000) for _ in range(100)]\n",
    "arr2 = [random.randint(1, 10000) for _ in range(1000)]\n",
    "arr3 = [random.randint(1, 10000) for _ in range(10000)]\n",
    "\n",
    "# 选择排序算法\n",
    "def selection_sort(arr):\n",
    "    for i in range(len(arr)):\n",
    "        min_idx = i\n",
    "        for j in range(i + 1, len(arr)):\n",
    "            if arr[j] < arr[min_idx]:\n",
    "                min_idx = j\n",
    "        arr[i], arr[min_idx] = arr[min_idx], arr[i]\n",
    "    return arr\n",
    "\n",
    "# 归并排序算法\n",
    "def merge_sort(arr):\n",
    "    if len(arr) > 1:\n",
    "        mid = len(arr) // 2\n",
    "        left_half = arr[:mid]\n",
    "        right_half = arr[mid:]\n",
    "\n",
    "        merge_sort(left_half)\n",
    "        merge_sort(right_half)\n",
    "\n",
    "        i = j = k = 0\n",
    "        while i < len(left_half) and j < len(right_half):\n",
    "            if left_half[i] < right_half[j]:\n",
    "                arr[k] = left_half[i]\n",
    "                i += 1\n",
    "            else:\n",
    "                arr[k] = right_half[j]\n",
    "                j += 1\n",
    "            k += 1\n",
    "\n",
    "        while i < len(left_half):\n",
    "            arr[k] = left_half[i]\n",
    "            i += 1\n",
    "            k += 1\n",
    "\n",
    "        while j < len(right_half):\n",
    "            arr[k] = right_half[j]\n",
    "            j += 1\n",
    "            k += 1\n",
    "    return arr\n",
    "\n",
    "# 测试排序算法的运行时间\n",
    "def test_sorting_algorithms():\n",
    "    arrays = [arr1, arr2, arr3]\n",
    "    lengths = [100, 1000, 10000]\n",
    "    results = []\n",
    "\n",
    "    for i, arr in enumerate(arrays):\n",
    "        length = lengths[i]\n",
    "        result = {\"Length\": length}\n",
    "\n",
    "        # 选择排序\n",
    "        arr_copy = arr.copy()\n",
    "        start_time = time.time()\n",
    "        selection_sort(arr_copy)\n",
    "        result[\"Selection Sort (s)\"] = time.time() - start_time\n",
    "\n",
    "        # 归并排序\n",
    "        arr_copy = arr.copy()\n",
    "        start_time = time.time()\n",
    "        merge_sort(arr_copy)\n",
    "        result[\"Merge Sort (s)\"] = time.time() - start_time\n",
    "\n",
    "        # Python 内置排序\n",
    "        arr_copy = arr.copy()\n",
    "        start_time = time.time()\n",
    "        sorted(arr_copy)\n",
    "        result[\"Built-in Sort (s)\"] = time.time() - start_time\n",
    "\n",
    "        results.append(result)\n",
    "    \n",
    "    # Display results in a formatted table\n",
    "    print(f\"{'Length':<10}{'Selection Sort (s)':<20}{'Merge Sort (s)':<20}{'Built-in Sort (s)':<20}\")\n",
    "    print(\"=\"*70)\n",
    "    for result in results:\n",
    "        print(f\"{result['Length']:<10}{result['Selection Sort (s)']:<20.5f}{result['Merge Sort (s)']:<20.5f}{result['Built-in Sort (s)']:<20.5f}\")\n",
    "\n",
    "test_sorting_algorithms()\n"
   ]
  },
  {
   "cell_type": "markdown",
   "metadata": {},
   "source": [
    "6.使用python代码获取当前系统时间"
   ]
  },
  {
   "cell_type": "code",
   "execution_count": 8,
   "metadata": {},
   "outputs": [
    {
     "name": "stdout",
     "output_type": "stream",
     "text": [
      "2024-10-16 12:10:40.092365\n"
     ]
    }
   ],
   "source": [
    "from datetime import datetime\n",
    "current_time = datetime.now()\n",
    "print(current_time)"
   ]
  },
  {
   "cell_type": "markdown",
   "metadata": {},
   "source": [
    "7.homework/data文件夹下的stuGrade.csv文件中包含5位同学的学号、语文成绩、数学成绩和英语成绩，请先用记事本打开该文件，查看文件内容，然后编写Python程序，读取该文件，并计算出各科的平均成绩（保留2位小数）。"
   ]
  },
  {
   "cell_type": "code",
   "execution_count": 20,
   "metadata": {},
   "outputs": [
    {
     "name": "stdout",
     "output_type": "stream",
     "text": [
      "语文(chinese)平均成绩：82.6\n",
      "数学(math)平均成绩：81.0\n",
      "英语(english)平均成绩：81.8\n"
     ]
    }
   ],
   "source": [
    "import csv\n",
    "\n",
    "# 定义文件路径\n",
    "file_path = '/Users/yingnizhen/Desktop/stuGrade.csv'\n",
    "\n",
    "# 定义存储各科成绩的列表\n",
    "chinese_scores = []\n",
    "math_scores = []\n",
    "english_scores = []\n",
    "\n",
    "# 读取csv文件\n",
    "with open(file_path, mode='r', encoding='utf-8') as file:\n",
    "    reader = csv.DictReader(file, delimiter=',')  # 使用逗号作为分隔符\n",
    "    for row in reader:\n",
    "        chinese_scores.append(float(row['chinese']))\n",
    "        math_scores.append(float(row['math']))\n",
    "        english_scores.append(float(row['english']))\n",
    "\n",
    "# 计算各科平均分\n",
    "def calculate_average(scores):\n",
    "    return round(sum(scores) / len(scores), 2)\n",
    "\n",
    "avg_chinese = calculate_average(chinese_scores)\n",
    "avg_math = calculate_average(math_scores)\n",
    "avg_english = calculate_average(english_scores)\n",
    "\n",
    "# 输出结果\n",
    "print(f\"语文(chinese)平均成绩：{avg_chinese}\")\n",
    "print(f\"数学(math)平均成绩：{avg_math}\")\n",
    "print(f\"英语(english)平均成绩：{avg_english}\")\n",
    "\n"
   ]
  },
  {
   "cell_type": "markdown",
   "metadata": {},
   "source": [
    "8.请在第7题的代码继续编写Python程序，将以下内容写入my.txt文件中，一并上传到github中。\n",
    "第1行：你的学号和姓名\n",
    "第2行：3门课程的平均成绩（任意课程），保留2位小数，以英文逗号间隔\n",
    "第3行：系统当前时间，格式例如2020-01-01 12:00:00\n",
    "第4行：两秒后的系统当前时间（利用sleep()方法）"
   ]
  },
  {
   "cell_type": "code",
   "execution_count": 21,
   "metadata": {},
   "outputs": [
    {
     "name": "stdout",
     "output_type": "stream",
     "text": [
      "数据已成功写入my.txt文件。\n"
     ]
    }
   ],
   "source": [
    "import csv\n",
    "import time\n",
    "from datetime import datetime\n",
    "\n",
    "# 定义文件路径\n",
    "csv_file_path = '/Users/yingnizhen/Desktop/stuGrade.csv'\n",
    "txt_file_path = '/Users/yingnizhen/Desktop/my.txt'\n",
    "\n",
    "# 定义存储各科成绩的列表\n",
    "chinese_scores = []\n",
    "math_scores = []\n",
    "english_scores = []\n",
    "\n",
    "# 读取csv文件\n",
    "with open(csv_file_path, mode='r', encoding='utf-8') as file:\n",
    "    reader = csv.DictReader(file, delimiter=',')  # 使用逗号作为分隔符\n",
    "    for row in reader:\n",
    "        chinese_scores.append(float(row['chinese']))\n",
    "        math_scores.append(float(row['math']))\n",
    "        english_scores.append(float(row['english']))\n",
    "\n",
    "# 计算各科平均分\n",
    "def calculate_average(scores):\n",
    "    return round(sum(scores) / len(scores), 2)\n",
    "\n",
    "avg_chinese = calculate_average(chinese_scores)\n",
    "avg_math = calculate_average(math_scores)\n",
    "avg_english = calculate_average(english_scores)\n",
    "\n",
    "# 语文平均分\n",
    "average_score = avg_chinese\n",
    "\n",
    "# 获取当前时间\n",
    "current_time = datetime.now().strftime('%Y-%m-%d %H:%M:%S')\n",
    "\n",
    "# 写入文件\n",
    "with open(txt_file_path, mode='w', encoding='utf-8') as file:\n",
    "    file.write(\"10233330404应妮臻\\n\")  # 第1行写入学号和姓名\n",
    "    file.write(f\"{avg_chinese},{avg_math},{avg_english}\\n\")  # 第2行写入三门课程的平均成绩\n",
    "    file.write(f\"{current_time}\\n\")  # 第3行写入当前系统时间\n",
    "\n",
    "    # 暂停2秒\n",
    "    time.sleep(2)\n",
    "\n",
    "    # 获取两秒后的时间\n",
    "    time_after_sleep = datetime.now().strftime('%Y-%m-%d %H:%M:%S')\n",
    "    file.write(f\"{time_after_sleep}\\n\")  # 第4行写入两秒后的系统时间\n",
    "\n",
    "print(\"数据已成功写入my.txt文件。\")\n"
   ]
  }
 ],
 "metadata": {
  "kernelspec": {
   "display_name": "Python (myvenv)",
   "language": "python",
   "name": "myvenv"
  },
  "language_info": {
   "codemirror_mode": {
    "name": "ipython",
    "version": 3
   },
   "file_extension": ".py",
   "mimetype": "text/x-python",
   "name": "python",
   "nbconvert_exporter": "python",
   "pygments_lexer": "ipython3",
   "version": "3.12.6"
  }
 },
 "nbformat": 4,
 "nbformat_minor": 2
}
